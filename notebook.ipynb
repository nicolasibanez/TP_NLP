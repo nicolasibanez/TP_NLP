{
 "cells": [
  {
   "cell_type": "code",
   "execution_count": null,
   "metadata": {},
   "outputs": [],
   "source": []
  },
  {
   "cell_type": "code",
   "execution_count": 13,
   "metadata": {},
   "outputs": [],
   "source": [
    "from dataset import NLI_Dataset\n",
    "from model import MLPNLIModel\n",
    "from transformers import AutoConfig, AutoTokenizer, AutoModel\n",
    "from pipeline import Pipeline\n",
    "import torch\n",
    "\n",
    "from torch.utils.data import Dataset\n",
    "import torch.nn as nn"
   ]
  },
  {
   "cell_type": "code",
   "execution_count": 7,
   "metadata": {},
   "outputs": [],
   "source": [
    "from datasets import load_dataset\n",
    "snli = load_dataset(\"snli\")\n",
    "snli = snli.filter(lambda example: example['label'] != -1) \n",
    "\n",
    "# 0 : entails\n",
    "# 1 : neutral\n",
    "# 2 : contradicts"
   ]
  },
  {
   "cell_type": "code",
   "execution_count": null,
   "metadata": {},
   "outputs": [],
   "source": []
  },
  {
   "cell_type": "markdown",
   "metadata": {},
   "source": [
    "# Finetuning"
   ]
  },
  {
   "cell_type": "markdown",
   "metadata": {},
   "source": [
    "## Loading and preprocessing the data"
   ]
  },
  {
   "cell_type": "markdown",
   "metadata": {},
   "source": [
    "The premise and the hypothesis will be fowarded to the tokenizer, which will return the input_ids, the attention_mask and potentially the token_type_ids. The input_ids are the tokenized version of the premise and the hypothesis, the attention_mask is a binary tensor that indicates which tokens should be attended to and which should not, and the token_type_ids are used to distinguish between the premise and the hypothesis.\n",
    "\n",
    "Special tokens are already used by the tokenizer, so we don't need to add them manually. Some of them add one separator token between the premise and the hypothesis, while others add two. The `add_special_tokens` parameter of the tokenizer is set to `True` by default, so we don't need to set it manually.\n",
    "\n",
    "We keep the padding to False and the truncation to True, max_length being set to '512'. The padding is set when collating the data to save memory, and the truncation is set to True because the model can only handle sequences of a certain length."
   ]
  },
  {
   "cell_type": "code",
   "execution_count": 8,
   "metadata": {},
   "outputs": [],
   "source": [
    "model_name = 'roberta-large'\n",
    "config = {\n",
    "    \"model\": {\n",
    "        \"name\": \"roberta-large\",\n",
    "        \"num_labels\": 3,\n",
    "        \"model_cfg\": {\n",
    "            \"hidden_sizes\": []\n",
    "        }\n",
    "    }\n",
    "}\n",
    "model_cfg = config[\"model\"][\"model_cfg\"]\n",
    "model_ckpt = \"ckpt/roberta-large_20240327_174024.pth\"\n",
    "\n",
    "tokenizer = AutoTokenizer.from_pretrained(model_name)"
   ]
  },
  {
   "cell_type": "markdown",
   "metadata": {},
   "source": [
    "Some models don't have the necessary `special tokens`, we can add them manually :"
   ]
  },
  {
   "cell_type": "code",
   "execution_count": 9,
   "metadata": {},
   "outputs": [],
   "source": [
    "if \"gpt2\" in model_name.lower():\n",
    "    tokenizer.add_special_tokens({'pad_token': '[PAD]'})\n",
    "    tokenizer.add_special_tokens({'cls_token': '[CLS]'})\n",
    "    tokenizer.add_special_tokens({'sep_token': '[SEP]'})"
   ]
  },
  {
   "cell_type": "code",
   "execution_count": 10,
   "metadata": {},
   "outputs": [],
   "source": [
    "def preprocess_data(examples):\n",
    "    if \"gpt2\" in config[\"model\"][\"name\"]:\n",
    "        premises = [\"[CLS] \" + example for example in examples['premise']]\n",
    "        hypotheses = [\"[SEP] \" + example + \"[SEP]\" for example in examples['hypothesis']]\n",
    "    else:\n",
    "        premises = [example for example in examples['premise']]\n",
    "        hypotheses = [example for example in examples['hypothesis']]\n",
    "    return tokenizer(premises, hypotheses, padding=False, truncation=True, max_length=512)"
   ]
  },
  {
   "cell_type": "markdown",
   "metadata": {},
   "source": [
    "We then map the whole dataset to the tokenizer. Then, we create a custom Dataset class for the finetuning, which will return the `input_ids`, the `attention_mask`, (potentially) the `token_type_ids` (the whole as a dict) and the `label`. The label is the target of the model, which is the entailment of the hypothesis given the premise. The label is an integer, with 0 being entailment, 1 being neutral and 2 being contradiction."
   ]
  },
  {
   "cell_type": "markdown",
   "metadata": {},
   "source": [
    "For this version of the dataset, we decide to tokenize just when we need to access the data, in the ``__getitem__`` method of the NLIDataset class. This way, we can avoid tokenizing the entire dataset at once.\n",
    "\n",
    "But, this means dealing with the way the dataloader collate the data, so we design a custom function aswell."
   ]
  },
  {
   "cell_type": "markdown",
   "metadata": {},
   "source": [
    "We also thought about making some ``data augmentation`` to the dataset, indead, we think that the ``premise`` and the ``hypothesis`` can be swapped. The model should actually be able to predict the same label no matter the order of the premise and the hypothesis. We will add this data augmentation to the dataset but we will try to train with and without it to see if it improves the model's performance."
   ]
  },
  {
   "cell_type": "code",
   "execution_count": 11,
   "metadata": {},
   "outputs": [],
   "source": [
    "class NLIDataset(Dataset):\n",
    "    def __init__(self, dataset, tokenizer, split = 'train', size: int = None, augmentation = False, force_augmentation = False):\n",
    "        self.tokenizer = tokenizer\n",
    "\n",
    "        if size is None:\n",
    "            size = len(dataset[split])\n",
    "        self.premise = dataset[split]['premise'][:size]\n",
    "        self.hypothesis = dataset[split]['hypothesis'][:size]\n",
    "        self.labels = dataset[split]['label'][:size]\n",
    "\n",
    "        self.augmentation = augmentation\n",
    "        self.force_augmentation = force_augmentation\n",
    "    \n",
    "    def __len__(self):\n",
    "        return len(self.premise)\n",
    "\n",
    "    def __getitem__(self, idx):\n",
    "        premise = self.premise[idx]\n",
    "        hypothesis = self.hypothesis[idx]\n",
    "        label = self.labels[idx]\n",
    "\n",
    "        if self.augmentation and (torch.rand(1) > 0.5 or self.force_augmentation):\n",
    "            # Swap the premise and hypothesis\n",
    "            premise, hypothesis = hypothesis, premise\n",
    "\n",
    "        inputs = self.tokenizer(premise, hypothesis, padding = 'max_length', truncation = True, max_length = 128, return_tensors = 'pt')\n",
    "        return inputs, label\n",
    "\n",
    "def custom_collate_fn_nli(batch):\n",
    "    # Initialize the keys\n",
    "    inputs = {k: None for k in batch[0][0].keys()}\n",
    "    labels = None\n",
    "\n",
    "    for example in batch:\n",
    "        for k in example[0].keys():\n",
    "            if inputs[k] is None:\n",
    "                inputs[k] = example[0][k]\n",
    "                labels = torch.tensor([example[1]])\n",
    "            else:\n",
    "                inputs[k] = torch.cat((inputs[k], example[0][k]), dim = 0)\n",
    "                labels = torch.cat((labels, torch.tensor([example[1]])), dim = 0)\n",
    "    return inputs, labels"
   ]
  },
  {
   "cell_type": "markdown",
   "metadata": {},
   "source": [
    "## Designing the model"
   ]
  },
  {
   "cell_type": "markdown",
   "metadata": {},
   "source": [
    "We needed to create a base class to test any ``transformer`` model from huggingface. This model would also include a ``classifier`` that would take the first output of the ``last hidden state`` (we could choose take take the pooled output instead) and pass it through a ``linear layer`` to get the logits. Even though we didn't use it, we can use any MLP model as a classifier."
   ]
  },
  {
   "cell_type": "code",
   "execution_count": 14,
   "metadata": {},
   "outputs": [],
   "source": [
    "class MLPNLIModel(nn.Module):\n",
    "    def __init__(self, model_name, model_cfg):\n",
    "        super(MLPNLIModel, self).__init__()\n",
    "        self.transformer = AutoModel.from_pretrained(model_name)\n",
    "        # nb_layers being the number of hidden sizes provided in the cgf : \n",
    "        # [768, 512, 256] -> 3 layers\n",
    "        nb_layers = len(model_cfg[\"hidden_sizes\"])\n",
    "        if nb_layers == 0:\n",
    "            self.classifier = nn.Linear(self.transformer.config.hidden_size, 3)\n",
    "        else:\n",
    "            self.classifier = nn.Sequential(\n",
    "                nn.Linear(self.transformer.config.hidden_size, model_cfg[\"hidden_sizes\"][0]),\n",
    "                nn.ReLU(),\n",
    "                *[nn.Sequential(\n",
    "                    nn.Linear(model_cfg[\"hidden_sizes\"][i], model_cfg[\"hidden_sizes\"][i+1]),\n",
    "                    nn.ReLU()\n",
    "                ) for i in range(nb_layers-1)],\n",
    "                nn.Linear(model_cfg[\"hidden_sizes\"][-1], 3)\n",
    "            )\n",
    "    def forward(self, inputs):\n",
    "        outputs = self.transformer(**inputs)\n",
    "        hidden_state = outputs[0]\n",
    "        pooled_output = hidden_state[:, 0]\n",
    "        logits = self.classifier(pooled_output)\n",
    "        return logits"
   ]
  },
  {
   "cell_type": "markdown",
   "metadata": {},
   "source": [
    "By designing the class this way, the model works even though the different tokenizer we test return different kind of outputs : some return the token_type_ids, some don't..."
   ]
  },
  {
   "cell_type": "markdown",
   "metadata": {},
   "source": [
    "For the loss and metric, we obviously look at the ``CrossEntropyLoss`` and the ``accuracy``."
   ]
  },
  {
   "cell_type": "markdown",
   "metadata": {},
   "source": [
    "## Results and performances"
   ]
  },
  {
   "cell_type": "markdown",
   "metadata": {},
   "source": [
    "With the different scripts : \n",
    "- ``main.py`` (python3 main.py --mode train/test)\n",
    "- ``utils.py``\n",
    "- ``model.py``\n",
    "- ``dataset.py``\n",
    "\n",
    "We were able to try several transformer models from huggingface to do a small benchmark. We tried the ``bert-base/large-uncased``, the ``roberta-base/large``, the ``distilbert-base-uncased``, the ``TinyBERT_General_4L_312D`` (from huawei) and the ``deberta-v3-large``."
   ]
  },
  {
   "cell_type": "code",
   "execution_count": 4,
   "metadata": {},
   "outputs": [
    {
     "ename": "SyntaxError",
     "evalue": "illegal target for annotation (1311480734.py, line 1)",
     "output_type": "error",
     "traceback": [
      "\u001b[0;36m  Cell \u001b[0;32mIn[4], line 1\u001b[0;36m\u001b[0m\n\u001b[0;31m    bert-large-uncased : 91.36% (test)\u001b[0m\n\u001b[0m    ^\u001b[0m\n\u001b[0;31mSyntaxError\u001b[0m\u001b[0;31m:\u001b[0m illegal target for annotation\n"
     ]
    }
   ],
   "source": [
    "bert-large-uncased : 91.36% (test)\n",
    "roberta-large : 92.28% (test)\n"
   ]
  },
  {
   "cell_type": "markdown",
   "metadata": {},
   "source": [
    "//Format the performances : \n",
    "- BERT (large) : 91.36% (test)\n",
    "- RoBERTa (large) : 92.28% (test)"
   ]
  },
  {
   "cell_type": "markdown",
   "metadata": {},
   "source": [
    "# Analysis"
   ]
  },
  {
   "cell_type": "markdown",
   "metadata": {},
   "source": [
    "## Playground"
   ]
  },
  {
   "cell_type": "markdown",
   "metadata": {},
   "source": [
    "In order to test efficiently the models, we designed a ``Pipeline`` object that takes a tokenizer and a model when instanciated. This could be called using two sentences, the ``premise`` and the ``hypothesis``, and would return the ``entailment`` of the hypothesis given the premise.\n",
    "\n",
    "(``pipeline.py``)"
   ]
  },
  {
   "cell_type": "code",
   "execution_count": 15,
   "metadata": {},
   "outputs": [],
   "source": [
    "class Pipeline():\n",
    "    def __init__(\n",
    "            self,\n",
    "            tokenizer: AutoTokenizer,\n",
    "            model: MLPNLIModel,\n",
    "            ):\n",
    "        self.tokenizer = tokenizer\n",
    "        self.model = model\n",
    "\n",
    "    def __call__(\n",
    "            self,\n",
    "            premise: str,\n",
    "            hypothesis: str,\n",
    "            ):\n",
    "        return self.predict(premise, hypothesis)\n",
    "\n",
    "    def predict_proba(\n",
    "            self,\n",
    "            premise: str,\n",
    "            hypothesis: str,\n",
    "            ):\n",
    "        inputs = self.tokenizer(premise, hypothesis, return_tensors=\"pt\")\n",
    "        outputs = self.model(inputs)\n",
    "        probs = torch.nn.functional.softmax(outputs, dim=1)\n",
    "        return probs\n",
    "\n",
    "    def predict(\n",
    "            self, \n",
    "            premise: str, \n",
    "            hypothesis: str\n",
    "            ):\n",
    "        probs = self.predict_proba(premise, hypothesis)\n",
    "        label = probs.argmax().item()\n",
    "        if label == 0:\n",
    "            return \"entailment\"\n",
    "        elif label == 1:\n",
    "            return \"neutral\"\n",
    "        elif label == 2:\n",
    "            return \"contradiction\"\n",
    "        else:\n",
    "            return \"unknown\""
   ]
  },
  {
   "cell_type": "code",
   "execution_count": 16,
   "metadata": {},
   "outputs": [
    {
     "name": "stderr",
     "output_type": "stream",
     "text": [
      "Some weights of RobertaModel were not initialized from the model checkpoint at roberta-large and are newly initialized: ['roberta.pooler.dense.bias', 'roberta.pooler.dense.weight']\n",
      "You should probably TRAIN this model on a down-stream task to be able to use it for predictions and inference.\n"
     ]
    }
   ],
   "source": [
    "model_name = 'roberta-large'\n",
    "model_cfg = {\"hidden_sizes\": []}\n",
    "model_ckpt = \"ckpt/roberta-large_20240327_174024.pth\"\n",
    "\n",
    "tokenizer = AutoTokenizer.from_pretrained(model_name)\n",
    "model = MLPNLIModel(model_name, model_cfg)\n",
    "model.load_state_dict(torch.load(model_ckpt))\n",
    "pipeline = Pipeline(tokenizer, model)"
   ]
  },
  {
   "cell_type": "markdown",
   "metadata": {},
   "source": [
    "Here are several examples of the predictions of the models :"
   ]
  },
  {
   "cell_type": "code",
   "execution_count": null,
   "metadata": {},
   "outputs": [],
   "source": [
    "pipeline(\"The adventurer sees a polar bear\", \"He is in the north pole\")\n",
    "pipeline(\"The adventurer sees a polar bear on the ice floe\", \"He is in the north pole\")\n",
    "pipeline(\"John is a student at Harvard University\", \"John is a student\")\n",
    "pipeline(\"John is a student at Stanford University\", \"John is good at computer science\")\n",
    "pipeline(\"Sarah has three children, two boys and one girl\", \"Sarah has atleast one child\")\n",
    "pipeline(\"Tom is vegetarian\", \"Tom does not eat meat\")\n",
    "pipeline(\"Tom has bought a Ferrari\", \"Tom is rich\")\n",
    "pipeline(\"Tom has bought a Ferrari\", \"Tom is poor\")\n",
    "pipeline(\"Jason has won ping pong championship\", \"Jason has practiced a lot\")\n",
    "pipeline(\"I am going to the beach\", \"It's raining outside\")"
   ]
  },
  {
   "cell_type": "code",
   "execution_count": 28,
   "metadata": {},
   "outputs": [
    {
     "name": "stdout",
     "output_type": "stream",
     "text": [
      "The sky is blue. and A bird is flying. entailment : neutral\n",
      "The adventurer sees a polar bear. He is in the north pole. entailment : neutral\n",
      "The adventurer sees a polar bear on the ice floe. He is in the north pole. entailment : neutral\n",
      "John is a student at Harvard University. John is a student. entailment : entailment\n",
      "John is a student at Stanford University. John is good at computer science. entailment : neutral\n",
      "Sarah has three children, two boys and one girl. Sarah has atleast one child. entailment : entailment\n",
      "Tom is vegetarian. Tom does not eat meat. entailment : entailment\n",
      "Tom has bought a Ferrari. Tom is rich. entailment : neutral\n",
      "Tom has bought a Ferrari. Tom is poor. entailment : neutral\n",
      "Jason has won ping pong championship. Jason has practiced a lot. entailment : neutral\n",
      "I am going to the beach. It's raining outside. entailment : contradiction\n",
      "The cat is sleeping on the couch. The cat is tired. entailment : entailment\n",
      "Mary is reading a book. Mary is a teacher. entailment : neutral\n",
      "The team won the football match. The team is happy. entailment : neutral\n",
      "The flowers are blooming. It is spring. entailment : neutral\n",
      "The car has a flat tire. The car is broken down. entailment : entailment\n",
      "The baby is crying. The baby is hungry. entailment : neutral\n",
      "The man is mowing the lawn. It is summer. entailment : neutral\n",
      "The woman is shopping for groceries. The woman is a chef. entailment : neutral\n",
      "The dog is chasing its tail. The dog is playful. entailment : neutral\n",
      "The sun is setting. It is evening. entailment : entailment\n",
      "The sun is shining. It is a beautiful day. entailment : entailment\n",
      "The dog is barking. There is a stranger outside. entailment : neutral\n",
      "The phone is ringing. Someone is calling. entailment : entailment\n",
      "The light is on. The room is not dark. entailment : entailment\n"
     ]
    }
   ],
   "source": [
    "print(f\"The sky is blue. and A bird is flying. entailment : {pipeline('The sky is blue.', 'A bird is flying.')}\")\n",
    "print(f\"The adventurer sees a polar bear. He is in the north pole. entailment : {pipeline('The adventurer sees a polar bear', 'He is in the north pole')}\")\n",
    "print(f\"The adventurer sees a polar bear on the ice floe. He is in the north pole. entailment : {pipeline('The adventurer sees a polar bear on the ice floe', 'He is in the north pole')}\")\n",
    "print(f\"John is a student at Harvard University. John is a student. entailment : {pipeline('John is a student at Harvard University', 'John is a student')}\")\n",
    "print(f\"John is a student at Stanford University. John is good at computer science. entailment : {pipeline('John is a student at Stanford University', 'John is good at computer science')}\")\n",
    "print(f\"Sarah has three children, two boys and one girl. Sarah has atleast one child. entailment : {pipeline('Sarah has three children, two boys and one girl', 'Sarah has atleast one child')}\")\n",
    "print(f\"Tom is vegetarian. Tom does not eat meat. entailment : {pipeline('Tom is vegetarian', 'Tom does not eat meat')}\")\n",
    "print(f\"Tom has bought a Ferrari. Tom is rich. entailment : {pipeline('Tom has bought a Ferrari', 'Tom is rich')}\")\n",
    "print(f\"Tom has bought a Ferrari. Tom is poor. entailment : {pipeline('Tom has bought a Ferrari', 'Tom is poor')}\")\n",
    "print(f\"Jason has won ping pong championship. Jason has practiced a lot. entailment : {pipeline('Jason has won ping pong championship', 'Jason has practiced a lot')}\")\n",
    "print(\"I am going to the beach. It's raining outside. entailment :\", pipeline(\"I am going to the beach\", \"It's raining outside\"))\n",
    "print(f\"The cat is sleeping on the couch. The cat is tired. entailment : {pipeline('The cat is sleeping on the couch', 'The cat is tired')}\")\n",
    "print(f\"Mary is reading a book. Mary is a teacher. entailment : {pipeline('Mary is reading a book', 'Mary is a teacher')}\")\n",
    "print(f\"The team won the football match. The team is happy. entailment : {pipeline('The team won the football match', 'The team is happy')}\")\n",
    "print(f\"The flowers are blooming. It is spring. entailment : {pipeline('The flowers are blooming', 'It is spring')}\")\n",
    "print(f\"The car has a flat tire. The car is broken down. entailment : {pipeline('The car has a flat tire', 'The car is broken down')}\")\n",
    "print(f\"The baby is crying. The baby is hungry. entailment : {pipeline('The baby is crying', 'The baby is hungry')}\")\n",
    "print(f\"The man is mowing the lawn. It is summer. entailment : {pipeline('The man is mowing the lawn', 'It is summer')}\")\n",
    "print(f\"The woman is shopping for groceries. The woman is a chef. entailment : {pipeline('The woman is shopping for groceries', 'The woman is a chef')}\")\n",
    "print(f\"The dog is chasing its tail. The dog is playful. entailment : {pipeline('The dog is chasing its tail', 'The dog is playful')}\")\n",
    "print(f\"The sun is setting. It is evening. entailment : {pipeline('The sun is setting', 'It is evening')}\")\n",
    "print(f\"The sun is shining. It is a beautiful day. entailment : {pipeline('The sun is shining', 'It is a beautiful day')}\")\n",
    "print(f\"The dog is barking. There is a stranger outside. entailment : {pipeline('The dog is barking', 'There is a stranger outside')}\")\n",
    "print(f\"The phone is ringing. Someone is calling. entailment : {pipeline('The phone is ringing', 'Someone is calling')}\")\n",
    "print(f\"The light is on. The room is not dark. entailment : {pipeline('The light is on', 'The room is not dark')}\")\n"
   ]
  },
  {
   "cell_type": "markdown",
   "metadata": {},
   "source": [
    "The model output is sometime questionnable, but it catches some logic as we can see in the following examples : "
   ]
  },
  {
   "cell_type": "code",
   "execution_count": 32,
   "metadata": {},
   "outputs": [
    {
     "name": "stdout",
     "output_type": "stream",
     "text": [
      "The light is on. The room is not dark. entailment : entailment\n",
      "The light is on. The room is dark. entailment : contradiction\n",
      "The phone is ringing. Someone is calling. entailment : entailment\n",
      "The phone is ringing. Nobody is calling. entailment : contradiction\n"
     ]
    }
   ],
   "source": [
    "print(f\"The light is on. The room is not dark. entailment : {pipeline('The light is on', 'The room is not dark')}\")\n",
    "\n",
    "print(f\"The light is on. The room is dark. entailment : {pipeline('The light is on', 'The room is dark')}\")\n",
    "\n",
    "print(f\"The phone is ringing. Someone is calling. entailment : {pipeline('The phone is ringing', 'Someone is calling')}\")\n",
    "\n",
    "print(f\"The phone is ringing. Nobody is calling. entailment : {pipeline('The phone is ringing', 'Nobody is calling')}\")"
   ]
  },
  {
   "cell_type": "markdown",
   "metadata": {},
   "source": [
    "Let's try to swap the premise and the hypothesis :"
   ]
  },
  {
   "cell_type": "code",
   "execution_count": 33,
   "metadata": {},
   "outputs": [
    {
     "name": "stdout",
     "output_type": "stream",
     "text": [
      "The room is dark. The light is off. entailment : entailment\n",
      "The room is dark. The light is on. entailment : contradiction\n",
      "Someone is calling. The phone is ringing. entailment : entailment\n",
      "Nobody is calling. The phone is ringing. entailment : contradiction\n"
     ]
    }
   ],
   "source": [
    "print(f\"The room is dark. The light is off. entailment : {pipeline('The room is dark', 'The light is off')}\")\n",
    "print(f\"The room is dark. The light is on. entailment : {pipeline('The room is dark', 'The light is on')}\")\n",
    "print(f\"Someone is calling. The phone is ringing. entailment : {pipeline('Someone is calling', 'The phone is ringing')}\")\n",
    "print(f\"Nobody is calling. The phone is ringing. entailment : {pipeline('Nobody is calling', 'The phone is ringing')}\")"
   ]
  },
  {
   "cell_type": "markdown",
   "metadata": {},
   "source": [
    "That's pretty accurate !"
   ]
  },
  {
   "cell_type": "markdown",
   "metadata": {},
   "source": [
    "## Attention"
   ]
  },
  {
   "cell_type": "markdown",
   "metadata": {},
   "source": [
    "Let's try to visualize attention now"
   ]
  },
  {
   "cell_type": "code",
   "execution_count": 40,
   "metadata": {},
   "outputs": [
    {
     "data": {
      "image/png": "[encoded data removed]",
      "text/plain": [
       "<Figure size 3000x1000 with 4 Axes>"
      ]
     },
     "metadata": {},
     "output_type": "display_data"
    }
   ],
   "source": [
    "# Visualize the attention on this model : \n",
    "# The adventurer sees a polar bear on the ice floe\n",
    "# He is in the north pole\n",
    "\n",
    "import seaborn as sns\n",
    "import matplotlib.pyplot as plt\n",
    "\n",
    "premise = \"The room is dark.\"\n",
    "hypothesis = \"The light is off.\"\n",
    "inputs = tokenizer(premise, hypothesis, return_tensors=\"pt\")\n",
    "outputs = model.transformer(**inputs, output_attentions=True, return_dict=True)\n",
    "\n",
    "attn = outputs.attentions[-1].detach().numpy()\n",
    "sum_attn1 = attn[0].mean(axis=0)\n",
    "# sum_attn = attn[0, 9]\n",
    "\n",
    "premise = \"The room is dark.\"\n",
    "hypothesis = \"The light is on.\"\n",
    "inputs = tokenizer(premise, hypothesis, return_tensors=\"pt\")\n",
    "outputs = model.transformer(**inputs, output_attentions=True, return_dict=True)\n",
    "\n",
    "attn = outputs.attentions[-1].detach().numpy()\n",
    "sum_attn2 = attn[0].mean(axis=0)\n",
    "\n",
    "\n",
    "\n",
    "# Same but plot both aside\n",
    "plt.figure(figsize=(30, 10))\n",
    "plt.subplot(1, 2, 1)\n",
    "sns.heatmap(sum_attn1, cmap='viridis', xticklabels=tokenizer.convert_ids_to_tokens(inputs['input_ids'][0]), yticklabels=tokenizer.convert_ids_to_tokens(inputs['input_ids'][0]))\n",
    "plt.title(\"The room is dark. The light is off. --> Entailment\")\n",
    "plt.subplot(1, 2, 2)\n",
    "sns.heatmap(sum_attn2, cmap='viridis', xticklabels=tokenizer.convert_ids_to_tokens(inputs['input_ids'][0]), yticklabels=tokenizer.convert_ids_to_tokens(inputs['input_ids'][0]))\n",
    "plt.title(\"The room is dark. The light is on. --> Contradiction\")\n",
    "plt.show()"
   ]
  },
  {
   "cell_type": "markdown",
   "metadata": {},
   "source": [
    "The mean of the attention heads is hardly interpretable ..."
   ]
  }
 ],
 "metadata": {
  "kernelspec": {
   "display_name": "venvtp1",
   "language": "python",
   "name": "python3"
  },
  "language_info": {
   "codemirror_mode": {
    "name": "ipython",
    "version": 3
   },
   "file_extension": ".py",
   "mimetype": "text/x-python",
   "name": "python",
   "nbconvert_exporter": "python",
   "pygments_lexer": "ipython3",
   "version": "3.9.13"
  }
 },
 "nbformat": 4,
 "nbformat_minor": 2
}
