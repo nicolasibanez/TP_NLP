{
 "cells": [
  {
   "cell_type": "code",
   "execution_count": 1,
   "metadata": {},
   "outputs": [],
   "source": [
    "import numpy as np"
   ]
  },
  {
   "cell_type": "code",
   "execution_count": 6,
   "metadata": {},
   "outputs": [],
   "source": [
    "from datasets import load_dataset\n",
    "snli = load_dataset(\"snli\")\n",
    "#Removing sentence pairs with no label (-1)\n",
    "snli = snli.filter(lambda example: example['label'] != -1) \n",
    "\n",
    "# 0 : entails\n",
    "# 1 : neutral\n",
    "# 2 : contradicts"
   ]
  },
  {
   "cell_type": "code",
   "execution_count": 19,
   "metadata": {},
   "outputs": [],
   "source": [
    "labels = snli['test']['label']\n",
    "labels = np.array(labels)"
   ]
  },
  {
   "cell_type": "code",
   "execution_count": 25,
   "metadata": {},
   "outputs": [],
   "source": [
    "BERTs = [\n",
    "    np.load('bert-large-uncased_20240327_173829.npy'),\n",
    "    np.load('bert-large-uncased_20240327_103627.npy'),  \n",
    "    np.load('bert-large-uncased_20240327_123313.npy')\n",
    "]\n",
    "\n",
    "RoBERTas = [\n",
    "    np.load('roberta-large_20240327_174024.npy'),\n",
    "    np.load('roberta-large_20240327_103801.npy'),\n",
    "    np.load('roberta-large_20240327_103720.npy')\n",
    "]\n",
    "# print(bert.shape) = (9824, 3)"
   ]
  },
  {
   "cell_type": "code",
   "execution_count": 26,
   "metadata": {},
   "outputs": [],
   "source": [
    "# softmax : \n",
    "sm_bert = [\n",
    "    np.exp(bert) / np.sum(np.exp(bert), axis=1)[:, np.newaxis]\n",
    "    for bert in BERTs\n",
    "]\n",
    "sm_roberta = [\n",
    "    np.exp(roberta) / np.sum(np.exp(roberta), axis=1)[:, np.newaxis]\n",
    "    for roberta in RoBERTas\n",
    "]\n",
    "\n",
    "model = sm_bert[0]\n",
    "for i in range(1, 3):\n",
    "    model += sm_bert[i]\n",
    "\n",
    "for i in range(3):\n",
    "    model += sm_roberta[i]\n",
    "\n",
    "model /= 6\n"
   ]
  },
  {
   "cell_type": "code",
   "execution_count": 29,
   "metadata": {},
   "outputs": [],
   "source": [
    "model_labels = np.argmax(model, axis=1)\n",
    "acc = (model_labels == labels).mean()\n",
    "acc_roberta = [(np.argmax(sm, axis=1) == labels).mean() for sm in sm_roberta]\n",
    "acc_bert = [(np.argmax(sm, axis=1) == labels).mean() for sm in sm_bert]"
   ]
  },
  {
   "cell_type": "code",
   "execution_count": 30,
   "metadata": {},
   "outputs": [
    {
     "name": "stdout",
     "output_type": "stream",
     "text": [
      "RoBERTa accuracy: [0.9228420195439739, 0.9185667752442996, 0.9177524429967426]\n",
      "BERT accuracy: [0.9267100977198697, 0.896478013029316, 0.9091001628664495]\n",
      "Ensemble accuracy: 0.9267100977198697\n"
     ]
    }
   ],
   "source": [
    "print(f\"RoBERTa accuracy: {acc_roberta}\")\n",
    "print(f\"BERT accuracy: {acc_bert}\")\n",
    "print(f\"Ensemble accuracy: {acc}\")"
   ]
  },
  {
   "cell_type": "code",
   "execution_count": null,
   "metadata": {},
   "outputs": [],
   "source": []
  }
 ],
 "metadata": {
  "kernelspec": {
   "display_name": "venvtp1",
   "language": "python",
   "name": "python3"
  },
  "language_info": {
   "codemirror_mode": {
    "name": "ipython",
    "version": 3
   },
   "file_extension": ".py",
   "mimetype": "text/x-python",
   "name": "python",
   "nbconvert_exporter": "python",
   "pygments_lexer": "ipython3",
   "version": "3.9.13"
  }
 },
 "nbformat": 4,
 "nbformat_minor": 2
}
